{
 "cells": [
  {
   "cell_type": "markdown",
   "metadata": {},
   "source": [
    "### 1. Data Strutures!\n",
    "In This Noteboot We'll Learn About Data Structures in Python.\n",
    "#### 1.1. String!"
   ]
  },
  {
   "cell_type": "code",
   "execution_count": 23,
   "metadata": {},
   "outputs": [
    {
     "name": "stdout",
     "output_type": "stream",
     "text": [
      "String: \t\tHello, Mom!.\n",
      "String Lower: \t\thello, mom!.\n",
      "String Upper: \t\tHELLO, MOM!.\n",
      "String Capitalize: \tHello, mom!.\n",
      "String Find: \t\t7th Index.\n",
      "String Replace: \tHello, World!\n",
      "String After: \t\tHello, Mom!.\n"
     ]
    }
   ],
   "source": [
    "string1 = '     Hello, Mom!     '\n",
    "\n",
    "'''\n",
    "@Brief: We'll Be Learning About String Methods And String Objects in Python!\n",
    "@Note:  Strip() Functions Are Used To Remove Spaces From The Strings.\n",
    "\n",
    "1. lstrip() :   Remove whitespaces from left side of string.\n",
    "2. rstrip() :   Remove whitespaces from right side of string.\n",
    "3. strip()  :   Remove whitespaces from all sides of string. (Excluding Spaces in Between! \n",
    "                Only Trailing or Following Zeros).\n",
    "'''\n",
    "string1 = string1.lstrip()\n",
    "string1 = string1.rstrip()\n",
    "\n",
    "# This Removes -- The Whitespaces From String! \n",
    "print(f\"String: \\t\\t{string1}.\")\n",
    "\n",
    "# 1. string1.lower()\n",
    "print(f\"String Lower: \\t\\t{string1.lower()}.\")\n",
    "# 2. string1.upper()\n",
    "print(f\"String Upper: \\t\\t{string1.upper()}.\")\n",
    "# 3. string1.capitalize()\n",
    "print(f\"String Capitalize: \\t{string1.capitalize()}.\")\n",
    "# 4. string1.find(): Index of The String TO Be Found in String!\n",
    "print(f\"String Find: \\t\\t{string1.find('Mom!')}th Index.\")\n",
    "# 5. Search & Replace! ()\n",
    "print(f\"String Replace: \\t{string1.replace('Mom!', 'World!')}\")\n",
    "\n",
    "# This is Final String!\n",
    "# This is Same as \"Hello, Mom!\" and That Means String methods Doesn't Change The Original String!\n",
    "print(f\"String After: \\t\\t{string1}.\")"
   ]
  },
  {
   "cell_type": "markdown",
   "metadata": {},
   "source": [
    "#### 1.2. String Indexing & String Slicing!"
   ]
  },
  {
   "cell_type": "code",
   "execution_count": 39,
   "metadata": {},
   "outputs": [
    {
     "name": "stdout",
     "output_type": "stream",
     "text": [
      "Slicing is Like string1[start:end:skip]\n",
      "String[0:6]: \t\tHello\n",
      "String(Rev): \t\tmoM \n"
     ]
    }
   ],
   "source": [
    "print(\"Slicing is Like string1[start:end:skip]\")\n",
    "# This is How We Do String Slicing!\n",
    "print(f\"String[0:6]: \\t\\t{string1[0:5]}\")\n",
    "# This is How We Reverse in \n",
    "print(f\"String(Rev): \\t\\t{string1[9:5:-1]}\")"
   ]
  },
  {
   "cell_type": "markdown",
   "metadata": {},
   "source": [
    "#### 1.3. Searching For Multiple Strings!"
   ]
  },
  {
   "cell_type": "code",
   "execution_count": 39,
   "metadata": {},
   "outputs": [
    {
     "name": "stdout",
     "output_type": "stream",
     "text": [
      ".ma\n"
     ]
    }
   ],
   "source": [
    "str1 = 'From stephen.marquard@uct'\n",
    "pos = str1.find('.')\n",
    "print(str1[pos:pos+3])"
   ]
  },
  {
   "cell_type": "markdown",
   "metadata": {},
   "source": [
    "#### 2. Lists\n",
    "Lists are very important datatypes and are used very important "
   ]
  },
  {
   "cell_type": "code",
   "execution_count": 40,
   "metadata": {},
   "outputs": [],
   "source": [
    "# 1. Algorithms:\n",
    "# A Set of Rules or Steps used to Solve a Problem.\n",
    "\n",
    "# 2. Data Strucutres:\n",
    "# A Particular way of organizing data in a Computer.\n",
    "\n",
    "friends = ['friend1', 'friend2', 'friend3']\n",
    "for friend in friends:\n",
    "    print(friend)"
   ]
  }
 ],
 "metadata": {
  "kernelspec": {
   "display_name": "pythonenv",
   "language": "python",
   "name": "python3"
  },
  "language_info": {
   "codemirror_mode": {
    "name": "ipython",
    "version": 3
   },
   "file_extension": ".py",
   "mimetype": "text/x-python",
   "name": "python",
   "nbconvert_exporter": "python",
   "pygments_lexer": "ipython3",
   "version": "3.11.4"
  },
  "orig_nbformat": 4
 },
 "nbformat": 4,
 "nbformat_minor": 2
}
